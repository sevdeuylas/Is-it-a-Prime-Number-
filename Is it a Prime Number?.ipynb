{
 "cells": [
  {
   "cell_type": "markdown",
   "metadata": {},
   "source": [
    "# Is it a Prime Number?\n",
    "## Task : Write a program that takes a number from the user and prints the result to check if it is a prime number."
   ]
  },
  {
   "cell_type": "code",
   "execution_count": 25,
   "metadata": {},
   "outputs": [
    {
     "name": "stdout",
     "output_type": "stream",
     "text": [
      "Please enter any number to check if it's a Prime Number: 2\n",
      "2 is a Prime Number.\n"
     ]
    }
   ],
   "source": [
    "num = int(input(\"Please enter any number to check if it's a Prime Number: \"))\n",
    "\n",
    "for i in range(2,num):\n",
    "    if num % i == 0:\n",
    "        print(f\"{num} is not a Prime Number.\")\n",
    "        break\n",
    "else:\n",
    "    print(f\"{num} is a Prime Number.\")\n",
    "\n"
   ]
  },
  {
   "cell_type": "code",
   "execution_count": 19,
   "metadata": {},
   "outputs": [
    {
     "name": "stdout",
     "output_type": "stream",
     "text": [
      "Please enter a number to check if it is Prime or not: 15\n",
      "15 is not a prime number\n"
     ]
    }
   ],
   "source": [
    "num =int(input('Please enter a number to check if it is Prime or not: '))\n",
    "for i in range(2, num):\n",
    "  if num % i == 0:\n",
    "    print(f'{num} is not a prime number')\n",
    "    break\n",
    "else:\n",
    "    print(f'{num} is a prime number')\n"
   ]
  },
  {
   "cell_type": "code",
   "execution_count": null,
   "metadata": {},
   "outputs": [],
   "source": []
  }
 ],
 "metadata": {
  "kernelspec": {
   "display_name": "Python 3",
   "language": "python",
   "name": "python3"
  },
  "language_info": {
   "codemirror_mode": {
    "name": "ipython",
    "version": 3
   },
   "file_extension": ".py",
   "mimetype": "text/x-python",
   "name": "python",
   "nbconvert_exporter": "python",
   "pygments_lexer": "ipython3",
   "version": "3.7.3"
  }
 },
 "nbformat": 4,
 "nbformat_minor": 2
}
